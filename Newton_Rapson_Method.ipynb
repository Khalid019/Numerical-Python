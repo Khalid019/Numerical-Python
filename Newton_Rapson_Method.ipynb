{
  "nbformat": 4,
  "nbformat_minor": 0,
  "metadata": {
    "colab": {
      "provenance": [],
      "authorship_tag": "ABX9TyODkZH1/7OKuSS/hlVpBhqE",
      "include_colab_link": true
    },
    "kernelspec": {
      "name": "python3",
      "display_name": "Python 3"
    },
    "language_info": {
      "name": "python"
    }
  },
  "cells": [
    {
      "cell_type": "markdown",
      "metadata": {
        "id": "view-in-github",
        "colab_type": "text"
      },
      "source": [
        "<a href=\"https://colab.research.google.com/github/Khalid019/Numerical-Python/blob/main/Newton_Rapson_Method.ipynb\" target=\"_parent\"><img src=\"https://colab.research.google.com/assets/colab-badge.svg\" alt=\"Open In Colab\"/></a>"
      ]
    },
    {
      "cell_type": "code",
      "execution_count": 25,
      "metadata": {
        "colab": {
          "base_uri": "https://localhost:8080/",
          "height": 372
        },
        "id": "9f1YC1A5M2RP",
        "outputId": "dbc0a320-b820-4e00-c56e-b26012f74edb"
      },
      "outputs": [
        {
          "output_type": "stream",
          "name": "stdout",
          "text": [
            "Enter your guess root: -1\n",
            "Enter your tolerance value: 1e-5\n",
            "The converges root:  -0.4545454545454546\n",
            "The converges root:  -0.220469596628537\n",
            "The converges root:  -0.19707786541766217\n",
            "The converges root:  -0.19694444167508543\n"
          ]
        },
        {
          "output_type": "display_data",
          "data": {
            "text/plain": [
              "<Figure size 432x288 with 1 Axes>"
            ],
            "image/png": "[encoded data removed]"
          },
          "metadata": {
            "needs_background": "light"
          }
        }
      ],
      "source": [
        "##################### import library ####################################\n",
        "import numpy as np\n",
        "import matplotlib.pyplot as plt\n",
        "%matplotlib inline\n",
        "\n",
        "##################### Coding Strat from here ############################\n",
        "\n",
        "## define function and its derivative\n",
        "def f(x):\n",
        "  return 2*x**3 + 5*x + 1\n",
        "\n",
        "def  drf(x):\n",
        "  return 6*x**2 + 5\n",
        "\n",
        "# Input the guess value and tolerance level  \n",
        "guess = float(input(\"Enter your guess root: \"))\n",
        "tol   = float (input(\"Enter your tolerance value: \"))\n",
        "\n",
        "# Start loop until converges\n",
        "while abs(f(guess)) > tol:\n",
        "  if drf(guess) == 0:\n",
        "    print(\"There is no root!\")\n",
        "  else:  \n",
        "    guess = guess - f(guess)/drf(guess)\n",
        "    print(\"The converges root: \", guess)\n",
        "  \n",
        "\n",
        "################## Graphical representation ############################\n",
        "\n",
        "x = np.linspace(-1, 1, 100)\n",
        "y = f(x)\n",
        "plt.plot(x, y)\n",
        "plt.axhline(0) # Horizontal line plot\n",
        "plt.grid()\n",
        "plt.show()\n",
        "\n",
        "\n",
        "################ This module is prepared by Khalid Hossen ##############"
      ]
    }
  ]
}