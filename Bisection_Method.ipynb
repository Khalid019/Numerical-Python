{
  "nbformat": 4,
  "nbformat_minor": 0,
  "metadata": {
    "colab": {
      "provenance": [],
      "authorship_tag": "ABX9TyMubnu0SGQnDr4DCWT3M/Vz",
      "include_colab_link": true
    },
    "kernelspec": {
      "name": "python3",
      "display_name": "Python 3"
    },
    "language_info": {
      "name": "python"
    }
  },
  "cells": [
    {
      "cell_type": "markdown",
      "metadata": {
        "id": "view-in-github",
        "colab_type": "text"
      },
      "source": [
        "<a href=\"https://colab.research.google.com/github/Khalid019/Numerical-Python/blob/main/Bisection_Method.ipynb\" target=\"_parent\"><img src=\"https://colab.research.google.com/assets/colab-badge.svg\" alt=\"Open In Colab\"/></a>"
      ]
    },
    {
      "cell_type": "code",
      "execution_count": 1,
      "metadata": {
        "colab": {
          "base_uri": "https://localhost:8080/"
        },
        "id": "pejRWEPCFwws",
        "outputId": "6cbe1bc3-b625-4f89-8bea-a01f1efa28ef"
      },
      "outputs": [
        {
          "output_type": "stream",
          "name": "stdout",
          "text": [
            "First approximation root: 1\n",
            "Second approximation root: 0\n",
            "Number of iteration: 6\n",
            "iteration:  1 , x:  0.5 , f(x):  -1.375\n",
            "iteration:  2 , x:  0.25 , f(x):  -0.234375\n",
            "iteration:  3 , x:  0.125 , f(x):  0.376953125\n",
            "iteration:  4 , x:  0.1875 , f(x):  0.069091796875\n",
            "iteration:  5 , x:  0.21875 , f(x):  -0.083282470703125\n",
            "iteration:  6 , x:  0.203125 , f(x):  -0.007244110107421875\n",
            "The required root is:  0.203125\n"
          ]
        }
      ],
      "source": [
        "def f(x):\n",
        "  return x**3 - 5*x + 1\n",
        "  \n",
        "\n",
        " # a and b are intial points, itr in the number of iteration\n",
        "def bisection(a, b, itr):\n",
        "  i=1\n",
        "  condition = True\n",
        "  while condition:\n",
        "    x = (a+b)/2 # x is the mid point\n",
        "    if f(x) < 0:\n",
        "      a = x\n",
        "    else:\n",
        "      b = x\n",
        "    print(\"iteration: \",i, \", x: \", x, \", f(x): \", f(x))\n",
        "    if i == itr:\n",
        "        condition = False\n",
        "    else:\n",
        "      condition = True\n",
        "      i=i+1\n",
        "  print(\"The required root is: \", x)      \n",
        "\n",
        "a = int (input(\"First approximation root: \"))\n",
        "b = int (input(\"Second approximation root: \"))      \n",
        "itr = int(input(\"Number of iteration: \"))   \n",
        "\n",
        "if f(a)*f(b)>0:\n",
        "  print(\"There is no root. Please try again!\")\n",
        "else:\n",
        "  bisection(a, b, itr)  \n"
      ]
    },
    {
      "cell_type": "code",
      "source": [
        "import numpy as np\n",
        "import matplotlib.pyplot as plt\n",
        "%matplotlib inline\n",
        "\n",
        "x = np.linspace(-1, 1, 1000)\n",
        "plt.plot(x, f(x))\n",
        "plt.grid()\n",
        "plt.show()"
      ],
      "metadata": {
        "colab": {
          "base_uri": "https://localhost:8080/",
          "height": 265
        },
        "id": "HWKSUFMtLYUB",
        "outputId": "a5bf8915-cbf1-4119-bc4e-03630f16bfca"
      },
      "execution_count": 5,
      "outputs": [
        {
          "output_type": "display_data",
          "data": {
            "text/plain": [
              "<Figure size 432x288 with 1 Axes>"
            ],
            "image/png": "[encoded data removed]"
          },
          "metadata": {
            "needs_background": "light"
          }
        }
      ]
    }
  ]
}