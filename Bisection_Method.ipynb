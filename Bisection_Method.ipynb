{
  "nbformat": 4,
  "nbformat_minor": 0,
  "metadata": {
    "colab": {
      "provenance": [],
      "authorship_tag": "ABX9TyO9iPctkDmmtqDUUrc9by+I",
      "include_colab_link": true
    },
    "kernelspec": {
      "name": "python3",
      "display_name": "Python 3"
    },
    "language_info": {
      "name": "python"
    }
  },
  "cells": [
    {
      "cell_type": "markdown",
      "metadata": {
        "id": "view-in-github",
        "colab_type": "text"
      },
      "source": [
        "<a href=\"https://colab.research.google.com/github/Khalid019/Numerical-Python/blob/main/Bisection_Method.ipynb\" target=\"_parent\"><img src=\"https://colab.research.google.com/assets/colab-badge.svg\" alt=\"Open In Colab\"/></a>"
      ]
    },
    {
      "cell_type": "code",
      "execution_count": 19,
      "metadata": {
        "colab": {
          "base_uri": "https://localhost:8080/"
        },
        "id": "pejRWEPCFwws",
        "outputId": "ba117c24-2f37-45d6-e7da-7aeef8c3f06f"
      },
      "outputs": [
        {
          "output_type": "stream",
          "name": "stdout",
          "text": [
            "First approximation root: 1\n",
            "Second approximation root: 1\n",
            "Number of iteration: 1\n",
            "There is no root. Please try again!\n"
          ]
        }
      ],
      "source": [
        "def f(x):\n",
        "  return x**3 - 5*x + 1\n",
        "  \n",
        "\n",
        " # a and b are intial points, itr in the number of iteration\n",
        "def bisection(a, b, itr):\n",
        "  i=1\n",
        "  condition = True\n",
        "  while condition:\n",
        "    x = (a+b)/2 # x is the mid point\n",
        "    if f(x) < 0:\n",
        "      a = x\n",
        "    else:\n",
        "      b = x\n",
        "    print(\"iteration: \",i, \", x: \", x, \", f(x): \", f(x))\n",
        "    if i == itr:\n",
        "        condition = False\n",
        "    else:\n",
        "      condition = True\n",
        "      i=i+1\n",
        "  print(\"The required root is: \", x)      \n",
        "\n",
        "a = int (input(\"First approximation root: \"))\n",
        "b = int (input(\"Second approximation root: \"))      \n",
        "itr = int(input(\"Number of iteration: \"))   \n",
        "\n",
        "if f(a)*f(b)>0:\n",
        "  print(\"There is no root. Please try again!\")\n",
        "else:\n",
        "  bisection(a, b, itr)  \n"
      ]
    }
  ]
}